{
 "cells": [
  {
   "attachments": {},
   "cell_type": "markdown",
   "metadata": {},
   "source": [
    "# Two-qubit Bell state $\\frac{1}{\\sqrt{2}}\\left(|00\\rangle + |11\\rangle \\right)$"
   ]
  },
  {
   "attachments": {},
   "cell_type": "markdown",
   "metadata": {},
   "source": [
    "## Ideal density matrix\n",
    "$\\rho_{ideal}=\\frac{1}{4}\\left(II+XX-YY+ZZ\\right)=\n",
    "\\begin{pmatrix}\n",
    "    0.5 & 0 & 0 & 0.5 \\\\\n",
    "    0 & 0 & 0 & 0 \\\\\n",
    "    0 & 0 & 0 & 0 \\\\\n",
    "    0.5 & 0 & 0 & 0.5\n",
    "\\end{pmatrix}$\n",
    "## Experimental density matrix\n",
    "$\\rho_{exp}=\\frac{1}{4}\\left(II+\\sum_{i, j}{\\langle\\sigma_i\\sigma_j\\rangle\\sigma_i\\sigma_j}\\right)$,\n",
    " \n",
    "where $i \\in \\left\\{0, 1, 2, 3\\right\\}, j \\in \\left\\{0, 1, 2, 3\\right\\}, i+j>0$\n",
    "\n",
    "## Fidelity\n",
    "$F=Tr\\left(\\rho_{exp}\\cdot\\rho_{ideal}\\right)=\\frac{1}{4}\\left(1+\\langle XX\\rangle-\\langle YY\\rangle+\\langle ZZ\\rangle\\right)$\n",
    "\n",
    "$SEM\\left(F\\right)=\\frac{1}{4}\\sqrt{SEM(\\langle XX\\rangle)^2+SEM(\\langle YY\\rangle)^2+SEM(\\langle ZZ\\rangle)^2}$"
   ]
  },
  {
   "cell_type": "code",
   "execution_count": 4,
   "metadata": {},
   "outputs": [
    {
     "name": "stdout",
     "output_type": "stream",
     "text": [
      "        rep1      rep2      rep3      rep4      rep5      mean       SEM\n",
      "XX  0.757386  0.758617  0.774023  0.768762  0.768756  0.765509  0.003218\n",
      "YY -0.832290 -0.850488 -0.851879 -0.838667 -0.852654 -0.845196  0.004108\n",
      "ZZ  0.765371  0.759324  0.772544  0.762497  0.764060  0.764759  0.002192\n"
     ]
    }
   ],
   "source": [
    "import pandas as pd\n",
    "exp_result = pd.read_excel(r'./Fig4b.xlsx', index_col=0)\n",
    "print(exp_result)\n"
   ]
  },
  {
   "attachments": {},
   "cell_type": "markdown",
   "metadata": {},
   "source": [
    "## Fidelity = mean $\\pm$ SEM"
   ]
  },
  {
   "cell_type": "code",
   "execution_count": 5,
   "metadata": {},
   "outputs": [
    {
     "name": "stdout",
     "output_type": "stream",
     "text": [
      "mean: 0.8438659592481341\n",
      "SEM: 0.0014149777035812657\n"
     ]
    }
   ],
   "source": [
    "import numpy as np\n",
    "mean = 1/4*(1+exp_result['mean']['XX'] -\n",
    "                exp_result['mean']['YY']+exp_result['mean']['ZZ'])\n",
    "print('mean:', mean)\n",
    "\n",
    "SEM = 1/4*np.sqrt(exp_result['SEM']['XX']**2 +\n",
    "                  exp_result['SEM']['YY']**2+exp_result['SEM']['ZZ']**2)\n",
    "print('SEM:', SEM)\n"
   ]
  }
 ],
 "metadata": {
  "kernelspec": {
   "display_name": "base",
   "language": "python",
   "name": "python3"
  },
  "language_info": {
   "codemirror_mode": {
    "name": "ipython",
    "version": 3
   },
   "file_extension": ".py",
   "mimetype": "text/x-python",
   "name": "python",
   "nbconvert_exporter": "python",
   "pygments_lexer": "ipython3",
   "version": "3.9.12"
  },
  "orig_nbformat": 4,
  "vscode": {
   "interpreter": {
    "hash": "b9b781247415dcfab9ac1944a08c8612d579a454ba343b004a1893ccc16bd976"
   }
  }
 },
 "nbformat": 4,
 "nbformat_minor": 2
}
