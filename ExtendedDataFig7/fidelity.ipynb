{
 "cells": [
  {
   "attachments": {},
   "cell_type": "markdown",
   "metadata": {},
   "source": [
    "# Three-qubit GHZ state $\\frac{1}{\\sqrt{2}}\\left(|000\\rangle + |111\\rangle \\right)$"
   ]
  },
  {
   "attachments": {},
   "cell_type": "markdown",
   "metadata": {},
   "source": [
    "## Ideal density matrix\n",
    "$\\rho_{ideal}=\\frac{1}{8}\\left(III+IZZ+XXX-XYY-YXY-YYX+ZIZ+ZZI\\right)=\n",
    "\\begin{pmatrix}\n",
    "    0.5 & 0 & 0 & 0 & 0 & 0 & 0 & 0.5 \\\\\n",
    "    0 & 0 & 0 & 0 & 0 & 0 & 0 & 0 \\\\\n",
    "    0 & 0 & 0 & 0 & 0 & 0 & 0 & 0 \\\\\n",
    "    0 & 0 & 0 & 0 & 0 & 0 & 0 & 0 \\\\\n",
    "    0 & 0 & 0 & 0 & 0 & 0 & 0 & 0 \\\\\n",
    "    0 & 0 & 0 & 0 & 0 & 0 & 0 & 0 \\\\\n",
    "    0 & 0 & 0 & 0 & 0 & 0 & 0 & 0 \\\\\n",
    "    0.5 & 0 & 0 & 0 & 0 & 0 & 0 & 0.5\n",
    "\\end{pmatrix}$\n",
    "## Experimental density matrix\n",
    "$\\rho_{exp}=\\frac{1}{8}\\left(III+\\sum_{i, j, k}{\\langle\\sigma_i\\sigma_j\\sigma_k\\rangle\\sigma_i\\sigma_j\\sigma_k}\\right)$,\n",
    " \n",
    "where $i, j, k \\in \\left\\{0, 1, 2, 3\\right\\}, i+j+k>0$\n",
    "\n",
    "## Fidelity\n",
    "$F=Tr\\left(\\rho_{exp}\\cdot\\rho_{ideal}\\right)=\\frac{1}{8}\\left(1+\\langle IZZ\\rangle+\\langle XXX\\rangle-\\langle XYY\\rangle-\\langle YXY\\rangle-\\langle YYX\\rangle+\\langle ZIZ\\rangle+\\langle ZZI\\rangle\\right)$\n",
    "\n",
    "$SEM\\left(F\\right)=\\frac{1}{8}\\sqrt{SEM(\\langle IZZ\\rangle)^2+SEM(\\langle XXX\\rangle)^2+SEM(\\langle XYY\\rangle)^2+SEM(\\langle YXY\\rangle)^2+SEM(\\langle YYX\\rangle)^2+SEM(\\langle ZIZ\\rangle)^2+SEM(\\langle ZZI\\rangle)^2}$"
   ]
  },
  {
   "cell_type": "code",
   "execution_count": 4,
   "metadata": {},
   "outputs": [
    {
     "name": "stdout",
     "output_type": "stream",
     "text": [
      "         rep1      rep2      rep3      rep4      rep5      mean       SEM\n",
      "IIX -0.013577 -0.024145  0.006727 -0.018351  0.009254 -0.008018  0.006758\n",
      "IIY  0.005865 -0.021406  0.027104 -0.011590 -0.018018 -0.003609  0.009003\n",
      "IIZ -0.006867 -0.005272  0.001597  0.009766  0.041642  0.008173  0.008868\n",
      "IXI -0.005446 -0.004387  0.013101  0.010942  0.017100  0.006262  0.004672\n",
      "IXX -0.001896  0.006865  0.014059 -0.007276 -0.002220  0.001906  0.003795\n",
      "..        ...       ...       ...       ...       ...       ...       ...\n",
      "ZYZ -0.019822 -0.047100  0.025081  0.003138  0.013704 -0.005000  0.012871\n",
      "ZZI  0.594223  0.587407  0.548523  0.566890  0.541746  0.567758  0.010329\n",
      "ZZX  0.037420 -0.024155  0.034384  0.037687  0.002100  0.017487  0.012373\n",
      "ZZY -0.002087 -0.012665 -0.016919 -0.025137 -0.003729 -0.012108  0.004265\n",
      "ZZZ -0.006464 -0.001094  0.014259  0.002624 -0.008775  0.000110  0.004063\n",
      "\n",
      "[63 rows x 7 columns]\n"
     ]
    }
   ],
   "source": [
    "import pandas as pd\n",
    "exp_result = pd.read_excel(r'./ExtendedDataFig7e.xlsx', index_col=0)\n",
    "print(exp_result)\n"
   ]
  },
  {
   "attachments": {},
   "cell_type": "markdown",
   "metadata": {},
   "source": [
    "## Fidelity = mean $\\pm$ SEM"
   ]
  },
  {
   "cell_type": "code",
   "execution_count": 11,
   "metadata": {},
   "outputs": [
    {
     "name": "stdout",
     "output_type": "stream",
     "text": [
      "mean: 0.7710003264617439\n",
      "SEM: 0.0040447654994015415\n"
     ]
    }
   ],
   "source": [
    "import numpy as np\n",
    "mean = 1/8*(1+exp_result['mean']['IZZ']+exp_result['mean']['XXX'] -\n",
    "            exp_result['mean']['XYY']-exp_result['mean']['YXY']-exp_result['mean']['YYX']+exp_result['mean']['ZIZ']+exp_result['mean']['ZZI'])\n",
    "print('mean:', mean)\n",
    "\n",
    "SEM = 1/8*np.sqrt(exp_result['SEM']['IZZ']**2+exp_result['SEM']['XXX']**2 +\n",
    "                  exp_result['SEM']['XYY']**2+exp_result['SEM']['YXY']**2+exp_result['SEM']['YYX']**2+exp_result['SEM']['ZIZ']**2+exp_result['SEM']['ZZI']**2)\n",
    "print('SEM:', SEM)\n"
   ]
  }
 ],
 "metadata": {
  "kernelspec": {
   "display_name": "base",
   "language": "python",
   "name": "python3"
  },
  "language_info": {
   "codemirror_mode": {
    "name": "ipython",
    "version": 3
   },
   "file_extension": ".py",
   "mimetype": "text/x-python",
   "name": "python",
   "nbconvert_exporter": "python",
   "pygments_lexer": "ipython3",
   "version": "3.9.12 (main, Apr  4 2022, 05:22:27) [MSC v.1916 64 bit (AMD64)]"
  },
  "orig_nbformat": 4,
  "vscode": {
   "interpreter": {
    "hash": "b9b781247415dcfab9ac1944a08c8612d579a454ba343b004a1893ccc16bd976"
   }
  }
 },
 "nbformat": 4,
 "nbformat_minor": 2
}
